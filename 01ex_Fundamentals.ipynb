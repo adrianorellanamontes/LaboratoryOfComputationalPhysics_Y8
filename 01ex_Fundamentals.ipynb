{
 "cells": [
  {
   "cell_type": "markdown",
   "metadata": {},
   "source": [
    "0\\. Implement a function (whatever you want) and save it to a file (e.g. `function.py`). Import that file and use that function in this notebook.\n"
   ]
  },
  {
   "cell_type": "code",
   "execution_count": 1,
   "metadata": {},
   "outputs": [
    {
     "name": "stdout",
     "output_type": "stream",
     "text": [
      "Overwriting function.py\n"
     ]
    }
   ],
   "source": [
    "%%writefile function.py\n",
    "def square(x):\n",
    "    return x ** 2"
   ]
  },
  {
   "cell_type": "code",
   "execution_count": 2,
   "metadata": {},
   "outputs": [
    {
     "data": {
      "text/plain": [
       "4"
      ]
     },
     "execution_count": 2,
     "metadata": {},
     "output_type": "execute_result"
    }
   ],
   "source": [
    "from function import square\n",
    "square(2)"
   ]
  },
  {
   "cell_type": "markdown",
   "metadata": {},
   "source": [
    "1\\. Write the following as a list comprehension"
   ]
  },
  {
   "cell_type": "code",
   "execution_count": 3,
   "metadata": {},
   "outputs": [
    {
     "name": "stdout",
     "output_type": "stream",
     "text": [
      "[(0, 0), (0, 1), (0, 2), (0, 3), (1, 0), (1, 1), (1, 2), (1, 3), (2, 0), (2, 1), (2, 2), (2, 3)]\n",
      "[0, 4, 16]\n"
     ]
    }
   ],
   "source": [
    "# 1\n",
    "ans = []\n",
    "for i in range(3):\n",
    "    for j in range(4):\n",
    "        ans.append((i, j))\n",
    "print (ans)\n",
    "\n",
    "# 2\n",
    "ans = map(lambda x: x*x, filter(lambda x: x%2 == 0, range(5)))\n",
    "print (list(ans))\n",
    "\n"
   ]
  },
  {
   "cell_type": "code",
   "execution_count": 4,
   "metadata": {},
   "outputs": [
    {
     "name": "stdout",
     "output_type": "stream",
     "text": [
      "[(0, 0), (0, 1), (0, 2), (0, 3), (1, 0), (1, 1), (1, 2), (1, 3), (2, 0), (2, 1), (2, 2), (2, 3)]\n",
      "[0, 4, 16]\n"
     ]
    }
   ],
   "source": [
    "# Comprehension of the list above.\n",
    "comprehension_1 = [(i,j) for i in range(3) for j in range(4)]\n",
    "print(comprehension_1)\n",
    "\n",
    "comprehension_2 = [i ** 2 for i in range(5) if i % 2 == 0] # \"if\" has to be written at the end.\n",
    "print(comprehension_2)"
   ]
  },
  {
   "cell_type": "markdown",
   "metadata": {},
   "source": [
    "2\\. Convert the following function into a pure function with no global variables or side effects"
   ]
  },
  {
   "cell_type": "code",
   "execution_count": 5,
   "metadata": {},
   "outputs": [
    {
     "name": "stdout",
     "output_type": "stream",
     "text": [
      "[1, 2, 3, 0, 1, 2, 3, 4]\n",
      "[1, 2, 3, 0, 1, 2, 3, 4]\n"
     ]
    }
   ],
   "source": [
    "x = 5\n",
    "def f(alist):\n",
    "    for i in range(x):\n",
    "         alist.append(i)\n",
    "    return alist\n",
    "\n",
    "alist = [1,2,3]\n",
    "ans = f(alist)\n",
    "print (ans)\n",
    "print (alist) # alist has been changed!"
   ]
  },
  {
   "cell_type": "code",
   "execution_count": 6,
   "metadata": {},
   "outputs": [],
   "source": [
    "import copy"
   ]
  },
  {
   "cell_type": "code",
   "execution_count": 7,
   "metadata": {},
   "outputs": [
    {
     "name": "stdout",
     "output_type": "stream",
     "text": [
      "[1, 2, 3, 0, 1, 2, 3, 4]\n",
      "[1, 2, 3]\n"
     ]
    }
   ],
   "source": [
    "alist = [1,2,3]\n",
    "def f_pure(func,x):\n",
    "    blist = func.copy()      # This way, we save \"alist\" on \"blist\" which can be locally edited.\n",
    "    for i in range(x):\n",
    "        blist.append(i)\n",
    "    return blist\n",
    "print (f_pure(alist,5))\n",
    "print (alist)"
   ]
  },
  {
   "cell_type": "markdown",
   "metadata": {},
   "source": [
    "3\\. Write a `decorator` hello that makes every wrapped function print “Hello!”, i.e. something like:\n",
    "\n",
    "```python\n",
    "@hello\n",
    "def square(x):\n",
    "    return x*x\n",
    "\n",
    "\n"
   ]
  },
  {
   "cell_type": "code",
   "execution_count": 8,
   "metadata": {},
   "outputs": [
    {
     "name": "stdout",
     "output_type": "stream",
     "text": [
      "Hello!\n",
      "4\n",
      "Bye\n"
     ]
    }
   ],
   "source": [
    "def hello(func):\n",
    "    def wrapper(x):\n",
    "        print(\"Hello!\")\n",
    "        print(func(x))\n",
    "        print('Bye')\n",
    "    return wrapper\n",
    "\n",
    "@hello\n",
    "def square(x):\n",
    "    return x ** 2\n",
    "    \n",
    "square(2)"
   ]
  },
  {
   "cell_type": "markdown",
   "metadata": {},
   "source": [
    "4\\. Write the factorial function so that it a) does and b) does not use recursion."
   ]
  },
  {
   "cell_type": "code",
   "execution_count": 9,
   "metadata": {
    "scrolled": true
   },
   "outputs": [
    {
     "name": "stdout",
     "output_type": "stream",
     "text": [
      "24\n",
      "24\n"
     ]
    }
   ],
   "source": [
    "def factorial_rec(a):\n",
    "    if a != 0:\n",
    "        return a * factorial_rec(a-1)  \n",
    "    else:\n",
    "        return 1\n",
    "\n",
    "def factorial(a):\n",
    "    fact = 1 \n",
    "    if a != 0:\n",
    "        for i in range(1,a + 1):\n",
    "            fact *= i              # *= saves the result and multiplies it by \"i\" value.\n",
    "        return fact\n",
    "    else:\n",
    "        return 1\n",
    "    \n",
    "print(factorial_rec(4))\n",
    "print(factorial(4))"
   ]
  },
  {
   "cell_type": "markdown",
   "metadata": {},
   "source": [
    "5\\. Use HOFs (zip in particular) to compute the weight of a circle, a disk and a sphere, assuming different radii and different densities:\n",
    "\n",
    "```python\n",
    "densities = {\"Al\":[0.5,1,2],\"Fe\":[3,4,5],\"Pb\": [15,20,30]}\n",
    "radii = [1,2,3]\n",
    "```\n",
    "\n",
    "where the entries of the dictionary's values are the linear, superficial and volumetric densities of the materials respectively.\n",
    "\n",
    "In particular define a list of three lambda functions using a comprehension that computes the circumference, the area and the volume for a given radius.\n"
   ]
  },
  {
   "cell_type": "code",
   "execution_count": 10,
   "metadata": {},
   "outputs": [
    {
     "name": "stdout",
     "output_type": "stream",
     "text": [
      "[6.283185307179586, 12.566370614359172, 18.84955592153876]\n",
      "[3.141592653589793, 12.566370614359172, 28.274333882308138]\n",
      "[4.1887902047863905, 33.510321638291124, 113.09733552923254]\n"
     ]
    }
   ],
   "source": [
    "densities = {\"Al\":[0.5,1,2],\"Fe\":[3,4,5],\"Pb\": [15,20,30]}\n",
    "radii = [1,2,3]\n",
    "from math import pi\n",
    "\n",
    "# list of lambdas: [circunference, area, volume].\n",
    "funcs = [\n",
    "    lambda r: 2 * pi * r,        # circunference.\n",
    "    lambda r: pi * r**2,         # area.\n",
    "    lambda r: (4/3) * pi * r**3  # volume.\n",
    "]\n",
    "\n",
    "circ, area, vol = [list(map(f, radii)) for f in funcs] # \"map\" applies each function \"f\" in \"function\" to \"radii\" values.\n",
    "\n",
    "print(circ)\n",
    "print(area)\n",
    "print(vol)"
   ]
  },
  {
   "cell_type": "code",
   "execution_count": 11,
   "metadata": {},
   "outputs": [
    {
     "name": "stdout",
     "output_type": "stream",
     "text": [
      "{'Al': [3.141592653589793, 6.283185307179586, 9.42477796076938], 'Fe': [18.84955592153876, 37.69911184307752, 56.548667764616276], 'Pb': [94.24777960769379, 188.49555921538757, 282.7433388230814]}\n",
      "{'Al': [3.141592653589793, 12.566370614359172, 28.274333882308138], 'Fe': [12.566370614359172, 50.26548245743669, 113.09733552923255], 'Pb': [62.83185307179586, 251.32741228718345, 565.4866776461628]}\n",
      "{'Al': [8.377580409572781, 67.02064327658225, 226.19467105846508], 'Fe': [20.94395102393195, 167.5516081914556, 565.4866776461627], 'Pb': [125.66370614359171, 1005.3096491487337, 3392.920065876976]}\n"
     ]
    }
   ],
   "source": [
    "# With \"densities.items()\", we display \"dict_items([('Al', [0.5, 1, 2]), ('Fe', [3, 4, 5]), ('Pb', [15, 20, 30])])\".\n",
    "\n",
    "circle_weight  = {m: [dens[0] * c for c in circ] for m, dens in densities.items()}\n",
    "disk_weight    = {m: [dens[1] * a for a in area] for m, dens in densities.items()}\n",
    "sphere_weight  = {m: [dens[2] * v for v in vol] for m, dens in densities.items()}\n",
    "\n",
    "print(circle_weight)\n",
    "print(disk_weight)\n",
    "print(sphere_weight)"
   ]
  },
  {
   "cell_type": "code",
   "execution_count": 12,
   "metadata": {},
   "outputs": [
    {
     "name": "stdout",
     "output_type": "stream",
     "text": [
      "Al:\n",
      "  Circle -> [3.141592653589793, 6.283185307179586, 9.42477796076938]\n",
      "  Disk   -> [3.141592653589793, 12.566370614359172, 28.274333882308138]\n",
      "  Sphere -> [8.377580409572781, 67.02064327658225, 226.19467105846508]\n",
      "Fe:\n",
      "  Circle -> [18.84955592153876, 37.69911184307752, 56.548667764616276]\n",
      "  Disk   -> [12.566370614359172, 50.26548245743669, 113.09733552923255]\n",
      "  Sphere -> [20.94395102393195, 167.5516081914556, 565.4866776461627]\n",
      "Pb:\n",
      "  Circle -> [94.24777960769379, 188.49555921538757, 282.7433388230814]\n",
      "  Disk   -> [62.83185307179586, 251.32741228718345, 565.4866776461628]\n",
      "  Sphere -> [125.66370614359171, 1005.3096491487337, 3392.920065876976]\n"
     ]
    }
   ],
   "source": [
    "# \"circle_weight.values()\" returns a view object containing the numeric values, and \"densities.keys()\" returns a view object containing the dictionary keys (names).\n",
    "for mat, c, d, s in zip(densities.keys(),\n",
    "                        circle_weight.values(),\n",
    "                        disk_weight.values(),\n",
    "                        sphere_weight.values()):\n",
    "    print(f\"{mat}:\")\n",
    "    print(f\"  Circle -> {c}\")\n",
    "    print(f\"  Disk   -> {d}\")\n",
    "    print(f\"  Sphere -> {s}\")"
   ]
  },
  {
   "cell_type": "markdown",
   "metadata": {},
   "source": [
    "6\\. Edit the class defintion to add an instance attribute of is_hungry = True to the Dog class. Then add a method called eat() which changes the value of is_hungry to False when called. Figure out the best way to feed each dog and then output “My dogs are hungry.” if all are hungry or “My dogs are not hungry.” if all are not hungry. The final output should look like this:\n",
    "\n",
    "`I have 3 dogs. \n",
    "Tom is 6. \n",
    "Fletcher is 7. \n",
    "Larry is 9. \n",
    "And they're all mammals, of course. \n",
    "My dogs are not hungry.\n",
    "`\n",
    "\n",
    "```python\n",
    "# Parent class\n",
    "class Dog:\n",
    "\n",
    "    # Class attribute\n",
    "    species = 'mammal'\n",
    "\n",
    "    # Initializer / Instance attributes\n",
    "    def __init__(self, name, age):\n",
    "        self.name = name\n",
    "        self.age = age\n",
    "\n",
    "    # instance method\n",
    "    def description(self):\n",
    "        return \"{} is {} years old\".format(self.name, self.age)\n",
    "\n",
    "    # instance method\n",
    "    def speak(self, sound):\n",
    "        return \"{} says {}\".format(self.name, sound)\n",
    "\n",
    "# Child class (inherits from Dog class)\n",
    "class RussellTerrier(Dog):\n",
    "    def run(self, speed):\n",
    "        return \"{} runs {}\".format(self.name, speed)\n",
    "\n",
    "# Child class (inherits from Dog class)\n",
    "class Bulldog(Dog):\n",
    "    def run(self, speed):\n",
    "        return \"{} runs {}\".format(self.name, speed)\n",
    "```"
   ]
  },
  {
   "cell_type": "code",
   "execution_count": 46,
   "metadata": {},
   "outputs": [],
   "source": [
    "# Parent class\n",
    "class Dog:\n",
    "\n",
    "    # Class attribute\n",
    "    species = 'mammal'\n",
    "    all_dogs = []\n",
    "    \n",
    "    # Initializer / Instance attributes\n",
    "    def __init__(self, name, age):\n",
    "        self.name = name\n",
    "        self.age = age\n",
    "        self.is_hungry = True\n",
    "        Dog.all_dogs.append(self) # In order to create a list with all the dogs. \"Dog.all_dogs\" moves us to the list created before.\n",
    "        \n",
    "    # instance method\n",
    "    def description(self):\n",
    "        return \"{} is {} years old\".format(self.name, self.age)\n",
    "\n",
    "    # instance method\n",
    "    def speak(self, sound):\n",
    "        return \"{} says {}\".format(self.name, sound)\n",
    "\n",
    "    # We define a method that redefines the \"self.is_hungry\" value.\n",
    "    def eat(self):\n",
    "        self.is_hungry = False \n",
    "\n",
    "# Child class (inherits from Dog class)\n",
    "class RussellTerrier(Dog):\n",
    "    def run(self, speed):\n",
    "        return \"{} runs {}\".format(self.name, speed)\n",
    "\n",
    "# Child class (inherits from Dog class)\n",
    "class Bulldog(Dog):\n",
    "    def run(self, speed):\n",
    "        return \"{} runs {}\".format(self.name, speed)"
   ]
  },
  {
   "cell_type": "code",
   "execution_count": 47,
   "metadata": {},
   "outputs": [],
   "source": [
    "# We define the name and age of each dog. The parameter self is taken from the left side of the equivalence.\n",
    "Zuncho = Dog('Zuncho',12)\n",
    "Kai = Dog('Kai',11)\n",
    "Baltón = Dog('Baltón',10)\n",
    "Itter = Dog('Itter',9)\n",
    "Daddy = Dog('Daddy',8)"
   ]
  },
  {
   "cell_type": "code",
   "execution_count": 41,
   "metadata": {},
   "outputs": [
    {
     "data": {
      "text/plain": [
       "True"
      ]
     },
     "execution_count": 41,
     "metadata": {},
     "output_type": "execute_result"
    }
   ],
   "source": [
    "Daddy.is_hungry"
   ]
  },
  {
   "cell_type": "code",
   "execution_count": 37,
   "metadata": {},
   "outputs": [
    {
     "data": {
      "text/plain": [
       "False"
      ]
     },
     "execution_count": 37,
     "metadata": {},
     "output_type": "execute_result"
    }
   ],
   "source": [
    "Daddy.eat()\n",
    "Daddy.is_hungry"
   ]
  },
  {
   "cell_type": "code",
   "execution_count": 43,
   "metadata": {},
   "outputs": [
    {
     "data": {
      "text/plain": [
       "['Zuncho', 'Kai', 'Baltón', 'Itter', 'Daddy']"
      ]
     },
     "execution_count": 43,
     "metadata": {},
     "output_type": "execute_result"
    }
   ],
   "source": [
    "# This is an extra cell in order to see a way to visualice dog's names.\n",
    "dog_names = [dog.name for dog in Dog.all_dogs]\n",
    "dog_names"
   ]
  },
  {
   "cell_type": "code",
   "execution_count": 44,
   "metadata": {},
   "outputs": [],
   "source": [
    "# In order to feed all the dogs.\n",
    "for dog in Dog.all_dogs:\n",
    "    dog.eat()"
   ]
  },
  {
   "cell_type": "code",
   "execution_count": 48,
   "metadata": {},
   "outputs": [
    {
     "name": "stdout",
     "output_type": "stream",
     "text": [
      "My dogs are hungry.\n"
     ]
    }
   ],
   "source": [
    "if all(dog.is_hungry for dog in Dog.all_dogs):\n",
    "    print(\"My dogs are hungry.\")\n",
    "elif any(dog.is_hungry for dog in Dog.all_dogs):\n",
    "    print(\"Some dogs may be hungry.\")\n",
    "else:\n",
    "    print(\"My dogs are not hungry.\")\n"
   ]
  }
 ],
 "metadata": {
  "kernelspec": {
   "display_name": "Python 3 (ipykernel)",
   "language": "python",
   "name": "python3"
  },
  "language_info": {
   "codemirror_mode": {
    "name": "ipython",
    "version": 3
   },
   "file_extension": ".py",
   "mimetype": "text/x-python",
   "name": "python",
   "nbconvert_exporter": "python",
   "pygments_lexer": "ipython3",
   "version": "3.12.7"
  }
 },
 "nbformat": 4,
 "nbformat_minor": 4
}
