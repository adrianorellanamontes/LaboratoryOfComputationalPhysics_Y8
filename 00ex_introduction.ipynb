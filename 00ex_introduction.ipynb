{
 "cells": [
  {
   "cell_type": "markdown",
   "metadata": {},
   "source": [
    "1. The MickeyMouse problem\n",
    "\n",
    "a) Write a program that prints the numbers from 1 to 100. But for multiples of 3 print `Mickey` instead of the corresponding number and for the multiples of 5 print `Mouse`. For numbers which are multiples of both three and five print `MickeyMouse`\n",
    "\n",
    "b) Put the result in a tuple and substitute `Mickey` with `Donald` and `Mouse` with `Duck`"
   ]
  },
  {
   "cell_type": "code",
   "execution_count": 1,
   "metadata": {},
   "outputs": [],
   "source": [
    "lista = []\n",
    "for i in range(1,101):\n",
    "    if i % 3 == 0 and i % 5 != 0:\n",
    "        lista.append(\"Mickey\")\n",
    "    elif i % 5 == 0 and i % 3 != 0:\n",
    "         lista.append(\"Mouse\")\n",
    "    elif i % 3 == 0 and i % 5 == 0:\n",
    "         lista.append(\"MickeyMouse\")\n",
    "    else:\n",
    "        lista.append(i)"
   ]
  },
  {
   "cell_type": "code",
   "execution_count": 2,
   "metadata": {},
   "outputs": [],
   "source": [
    "raton = tuple(lista)\n",
    "lista = [\"Donald\" if i == \"Mickey\" else \"Duck\" if i == \"Mouse\" else \"DonaldDuck\" if i == \"MickeyMouse\" else i for i in lista]\n",
    "pato = tuple(lista)"
   ]
  },
  {
   "cell_type": "code",
   "execution_count": 3,
   "metadata": {},
   "outputs": [
    {
     "data": {
      "text/plain": [
       "(1,\n",
       " 2,\n",
       " 'Mickey',\n",
       " 4,\n",
       " 'Mouse',\n",
       " 'Mickey',\n",
       " 7,\n",
       " 8,\n",
       " 'Mickey',\n",
       " 'Mouse',\n",
       " 11,\n",
       " 'Mickey',\n",
       " 13,\n",
       " 14,\n",
       " 'MickeyMouse',\n",
       " 16,\n",
       " 17,\n",
       " 'Mickey',\n",
       " 19,\n",
       " 'Mouse',\n",
       " 'Mickey',\n",
       " 22,\n",
       " 23,\n",
       " 'Mickey',\n",
       " 'Mouse',\n",
       " 26,\n",
       " 'Mickey',\n",
       " 28,\n",
       " 29,\n",
       " 'MickeyMouse',\n",
       " 31,\n",
       " 32,\n",
       " 'Mickey',\n",
       " 34,\n",
       " 'Mouse',\n",
       " 'Mickey',\n",
       " 37,\n",
       " 38,\n",
       " 'Mickey',\n",
       " 'Mouse',\n",
       " 41,\n",
       " 'Mickey',\n",
       " 43,\n",
       " 44,\n",
       " 'MickeyMouse',\n",
       " 46,\n",
       " 47,\n",
       " 'Mickey',\n",
       " 49,\n",
       " 'Mouse',\n",
       " 'Mickey',\n",
       " 52,\n",
       " 53,\n",
       " 'Mickey',\n",
       " 'Mouse',\n",
       " 56,\n",
       " 'Mickey',\n",
       " 58,\n",
       " 59,\n",
       " 'MickeyMouse',\n",
       " 61,\n",
       " 62,\n",
       " 'Mickey',\n",
       " 64,\n",
       " 'Mouse',\n",
       " 'Mickey',\n",
       " 67,\n",
       " 68,\n",
       " 'Mickey',\n",
       " 'Mouse',\n",
       " 71,\n",
       " 'Mickey',\n",
       " 73,\n",
       " 74,\n",
       " 'MickeyMouse',\n",
       " 76,\n",
       " 77,\n",
       " 'Mickey',\n",
       " 79,\n",
       " 'Mouse',\n",
       " 'Mickey',\n",
       " 82,\n",
       " 83,\n",
       " 'Mickey',\n",
       " 'Mouse',\n",
       " 86,\n",
       " 'Mickey',\n",
       " 88,\n",
       " 89,\n",
       " 'MickeyMouse',\n",
       " 91,\n",
       " 92,\n",
       " 'Mickey',\n",
       " 94,\n",
       " 'Mouse',\n",
       " 'Mickey',\n",
       " 97,\n",
       " 98,\n",
       " 'Mickey',\n",
       " 'Mouse')"
      ]
     },
     "execution_count": 3,
     "metadata": {},
     "output_type": "execute_result"
    }
   ],
   "source": [
    "raton"
   ]
  },
  {
   "cell_type": "code",
   "execution_count": 4,
   "metadata": {},
   "outputs": [
    {
     "data": {
      "text/plain": [
       "(1,\n",
       " 2,\n",
       " 'Donald',\n",
       " 4,\n",
       " 'Duck',\n",
       " 'Donald',\n",
       " 7,\n",
       " 8,\n",
       " 'Donald',\n",
       " 'Duck',\n",
       " 11,\n",
       " 'Donald',\n",
       " 13,\n",
       " 14,\n",
       " 'DonaldDuck',\n",
       " 16,\n",
       " 17,\n",
       " 'Donald',\n",
       " 19,\n",
       " 'Duck',\n",
       " 'Donald',\n",
       " 22,\n",
       " 23,\n",
       " 'Donald',\n",
       " 'Duck',\n",
       " 26,\n",
       " 'Donald',\n",
       " 28,\n",
       " 29,\n",
       " 'DonaldDuck',\n",
       " 31,\n",
       " 32,\n",
       " 'Donald',\n",
       " 34,\n",
       " 'Duck',\n",
       " 'Donald',\n",
       " 37,\n",
       " 38,\n",
       " 'Donald',\n",
       " 'Duck',\n",
       " 41,\n",
       " 'Donald',\n",
       " 43,\n",
       " 44,\n",
       " 'DonaldDuck',\n",
       " 46,\n",
       " 47,\n",
       " 'Donald',\n",
       " 49,\n",
       " 'Duck',\n",
       " 'Donald',\n",
       " 52,\n",
       " 53,\n",
       " 'Donald',\n",
       " 'Duck',\n",
       " 56,\n",
       " 'Donald',\n",
       " 58,\n",
       " 59,\n",
       " 'DonaldDuck',\n",
       " 61,\n",
       " 62,\n",
       " 'Donald',\n",
       " 64,\n",
       " 'Duck',\n",
       " 'Donald',\n",
       " 67,\n",
       " 68,\n",
       " 'Donald',\n",
       " 'Duck',\n",
       " 71,\n",
       " 'Donald',\n",
       " 73,\n",
       " 74,\n",
       " 'DonaldDuck',\n",
       " 76,\n",
       " 77,\n",
       " 'Donald',\n",
       " 79,\n",
       " 'Duck',\n",
       " 'Donald',\n",
       " 82,\n",
       " 83,\n",
       " 'Donald',\n",
       " 'Duck',\n",
       " 86,\n",
       " 'Donald',\n",
       " 88,\n",
       " 89,\n",
       " 'DonaldDuck',\n",
       " 91,\n",
       " 92,\n",
       " 'Donald',\n",
       " 94,\n",
       " 'Duck',\n",
       " 'Donald',\n",
       " 97,\n",
       " 98,\n",
       " 'Donald',\n",
       " 'Duck')"
      ]
     },
     "execution_count": 4,
     "metadata": {},
     "output_type": "execute_result"
    }
   ],
   "source": [
    "pato"
   ]
  },
  {
   "cell_type": "markdown",
   "metadata": {},
   "source": [
    "2\\. The swap function\n",
    "\n",
    "Write a function that swap the values of two input variables x and y (whatever the type). Try to do that also without a temporary variable"
   ]
  },
  {
   "cell_type": "code",
   "execution_count": 8,
   "metadata": {},
   "outputs": [],
   "source": [
    "try:\n",
    "    x\n",
    "except NameError:\n",
    "    x = float(input(\"x value\"))\n",
    "try:\n",
    "    y\n",
    "except NameError:\n",
    "    y = float(input(\"y value\"))"
   ]
  },
  {
   "cell_type": "code",
   "execution_count": 9,
   "metadata": {},
   "outputs": [
    {
     "data": {
      "text/plain": [
       "(9.0, 5.0)"
      ]
     },
     "execution_count": 9,
     "metadata": {},
     "output_type": "execute_result"
    }
   ],
   "source": [
    "def swap(x,y):\n",
    "    x , y = y , x\n",
    "    return x,y\n",
    "swap(x,y)"
   ]
  },
  {
   "cell_type": "markdown",
   "metadata": {},
   "source": [
    "3\\. Computing the distance\n",
    "\n",
    "Write a function that calculates and returns the euclidean distance between two points *u* and *v*, where *u* and *v* are both 2-tuples *(x,y)*. For example, if *u=(3,0)* and *v=(0,4)*, the function should return 5"
   ]
  },
  {
   "cell_type": "code",
   "execution_count": 13,
   "metadata": {},
   "outputs": [
    {
     "data": {
      "text/plain": [
       "5.0"
      ]
     },
     "execution_count": 13,
     "metadata": {},
     "output_type": "execute_result"
    }
   ],
   "source": [
    "u = (3, 0)\n",
    "v = (0, 4)\n",
    "def dist(u,v):\n",
    "    x = ( u[0] - v[0], u[1] - v[1] )\n",
    "    return (x[0]**2 + x[1]**2 )**0.5\n",
    "dist((3, 0),(0, 4))"
   ]
  },
  {
   "cell_type": "markdown",
   "metadata": {},
   "source": [
    "4\\. Counting letters\n",
    "\n",
    "Write a program to calculate the number of times each character occurs in a given string *s*. Ignore differneces in capitalization"
   ]
  },
  {
   "cell_type": "code",
   "execution_count": 1,
   "metadata": {},
   "outputs": [],
   "source": [
    "s=\"Write a program that prints the numbers from 1 to 100. \\\n",
    "But for multiples of three print Mickey instead of the number and for the multiples of five print Mouse. \\\n",
    "For numbers which are multiples of both three and five print MickeyMouse\""
   ]
  },
  {
   "cell_type": "code",
   "execution_count": 6,
   "metadata": {},
   "outputs": [],
   "source": [
    "def count_characters(c):\n",
    "    c = c.lower().replace(\" \", \"\") # In order to ignore differences in capitalization.\n",
    "    characters = set(c) # We create a s in order to eliminate repeated characters and make faster the next comparation between the list and the text.\n",
    "    characters_unique = list(characters) # Now we trasnform the set in a list to have positional indexes.\n",
    "    initial = 0\n",
    "    count = dict.fromkeys(characters_unique, initial) # We create a dictionary with the unique characters and we set their initial value to 0.\n",
    "    for i in range(0, len(c)):\n",
    "        if c[i] in characters_unique: # All letters are in c[i] so this way we add them in \"count\".\n",
    "            count[c[i]] += 1\n",
    "    return count"
   ]
  },
  {
   "cell_type": "code",
   "execution_count": 8,
   "metadata": {},
   "outputs": [
    {
     "data": {
      "text/plain": [
       "{'t': 19,\n",
       " '.': 2,\n",
       " 'k': 2,\n",
       " 'e': 22,\n",
       " '0': 2,\n",
       " 'u': 9,\n",
       " 'w': 2,\n",
       " 'p': 8,\n",
       " 's': 9,\n",
       " 'a': 7,\n",
       " 'h': 9,\n",
       " 'r': 17,\n",
       " 'y': 2,\n",
       " 'l': 6,\n",
       " 'o': 13,\n",
       " 'm': 12,\n",
       " 'f': 10,\n",
       " 'n': 10,\n",
       " 'd': 3,\n",
       " 'g': 1,\n",
       " '1': 2,\n",
       " 'c': 3,\n",
       " 'b': 5,\n",
       " 'v': 2,\n",
       " 'i': 14}"
      ]
     },
     "execution_count": 8,
     "metadata": {},
     "output_type": "execute_result"
    }
   ],
   "source": [
    "count_characters(s)"
   ]
  },
  {
   "cell_type": "markdown",
   "metadata": {},
   "source": [
    "5\\. Isolating the unique\n",
    "\n",
    "Write a function that determines and count the unique numbers in the list *l*"
   ]
  },
  {
   "cell_type": "code",
   "execution_count": 11,
   "metadata": {},
   "outputs": [],
   "source": [
    "l = [36, 45, 58, 3, 74, 96, 64, 45, 31, 10, 24, 19, 33, 86, 99, 18, 63, 70, 85,\n",
    " 85, 63, 47, 56, 42, 70, 84, 88, 55, 20, 54, 8, 56, 51, 79, 81, 57, 37, 91,\n",
    " 1, 84, 84, 36, 66, 9, 89, 50, 42, 91, 50, 95, 90, 98, 39, 16, 82, 31, 92, 41,\n",
    " 45, 30, 66, 70, 34, 85, 94, 5, 3, 36, 72, 91, 84, 34, 87, 75, 53, 51, 20, 89, 51, 20]"
   ]
  },
  {
   "cell_type": "code",
   "execution_count": 13,
   "metadata": {},
   "outputs": [],
   "source": [
    "def count_unique_numbers(c):\n",
    "    unique = set(c) # So that we eliminate repeated numbers.\n",
    "    unique_numbers = list(unique) # To recover the list.\n",
    "    return print(f\"The unique numbers in the list are {unique_numbers} and there are {len(unique_numbers)} different numbers\")"
   ]
  },
  {
   "cell_type": "code",
   "execution_count": 15,
   "metadata": {},
   "outputs": [
    {
     "name": "stdout",
     "output_type": "stream",
     "text": [
      "The unique numbers in the list are [1, 3, 5, 8, 9, 10, 16, 18, 19, 20, 24, 30, 31, 33, 34, 36, 37, 39, 41, 42, 45, 47, 50, 51, 53, 54, 55, 56, 57, 58, 63, 64, 66, 70, 72, 74, 75, 79, 81, 82, 84, 85, 86, 87, 88, 89, 90, 91, 92, 94, 95, 96, 98, 99] and there are 54 different numbers\n"
     ]
    }
   ],
   "source": [
    "count_unique_numbers(l)"
   ]
  },
  {
   "cell_type": "markdown",
   "metadata": {},
   "source": [
    "6\\. Combination of functions\n",
    "\n",
    "Write two functions - one that returns the square of a number, and one that returns the cube. Now write a third function that returns the number raised to the 6th power using the two previous functions."
   ]
  },
  {
   "cell_type": "code",
   "execution_count": 18,
   "metadata": {},
   "outputs": [],
   "source": [
    "def square(n):\n",
    "    return n ** 2\n",
    "\n",
    "def cube(n):\n",
    "    return n ** 3\n",
    "\n",
    "def sixth_power(n):\n",
    "    result = cube(square(n))\n",
    "    return result"
   ]
  },
  {
   "cell_type": "code",
   "execution_count": 20,
   "metadata": {},
   "outputs": [
    {
     "data": {
      "text/plain": [
       "64"
      ]
     },
     "execution_count": 20,
     "metadata": {},
     "output_type": "execute_result"
    }
   ],
   "source": [
    "sixth_power(2)"
   ]
  },
  {
   "cell_type": "markdown",
   "metadata": {},
   "source": [
    "7\\. Cubes\n",
    "\n",
    "Create a list of the cubes of x for x in *[0, 10]* using:\n",
    "\n",
    "a) a for loop\n",
    "\n",
    "b) a list comprehension"
   ]
  },
  {
   "cell_type": "code",
   "execution_count": 105,
   "metadata": {},
   "outputs": [],
   "source": [
    "def loop_cube(n):\n",
    "    cubes = list(range(n)) # We create a list on where save each result.\n",
    "    for i in range(0,n):\n",
    "        cubes[i] = i ** 3\n",
    "    return cubes"
   ]
  },
  {
   "cell_type": "code",
   "execution_count": 107,
   "metadata": {},
   "outputs": [
    {
     "data": {
      "text/plain": [
       "[0, 1, 8, 27, 64, 125, 216, 343, 512, 729, 1000]"
      ]
     },
     "execution_count": 107,
     "metadata": {},
     "output_type": "execute_result"
    }
   ],
   "source": [
    "loop_cube(11)"
   ]
  },
  {
   "cell_type": "code",
   "execution_count": 113,
   "metadata": {},
   "outputs": [],
   "source": [
    "def comprehension_cube(n):\n",
    "    cubes = [i ** 3 for i in range(0,n)]\n",
    "    return cubes"
   ]
  },
  {
   "cell_type": "code",
   "execution_count": 115,
   "metadata": {},
   "outputs": [
    {
     "data": {
      "text/plain": [
       "[0, 1, 8, 27, 64, 125, 216, 343, 512, 729, 1000]"
      ]
     },
     "execution_count": 115,
     "metadata": {},
     "output_type": "execute_result"
    }
   ],
   "source": [
    "comprehension_cube(11)"
   ]
  },
  {
   "cell_type": "markdown",
   "metadata": {},
   "source": [
    "8\\. Nested list comprehension\n",
    "\n",
    "A Pythagorean triple is an integer solution to the Pythagorean theorem $a^2+b^2=c^2$. The first Pythagorean triple is (3,4,5). Find and put in a tuple all unique Pythagorean triples for the positive integers a, b and c less than 100."
   ]
  },
  {
   "cell_type": "code",
   "execution_count": 187,
   "metadata": {},
   "outputs": [],
   "source": [
    "def pyth_triple(n):\n",
    "    triple_list = []\n",
    "    for i in range (1,n):\n",
    "        for j in range (1,n):\n",
    "             for k in range (1,n):\n",
    "                 if i ** 2 + j ** 2 == k ** 2 and j > i:\n",
    "                     triple = i,j,k\n",
    "                     triple_list.append(triple) \n",
    "                     final_tuple = tuple(triple_list)\n",
    "    return final_tuple\n",
    "    "
   ]
  },
  {
   "cell_type": "code",
   "execution_count": 189,
   "metadata": {},
   "outputs": [
    {
     "data": {
      "text/plain": [
       "((3, 4, 5),\n",
       " (5, 12, 13),\n",
       " (6, 8, 10),\n",
       " (7, 24, 25),\n",
       " (8, 15, 17),\n",
       " (9, 12, 15),\n",
       " (9, 40, 41),\n",
       " (10, 24, 26),\n",
       " (11, 60, 61),\n",
       " (12, 16, 20),\n",
       " (12, 35, 37),\n",
       " (13, 84, 85),\n",
       " (14, 48, 50),\n",
       " (15, 20, 25),\n",
       " (15, 36, 39),\n",
       " (16, 30, 34),\n",
       " (16, 63, 65),\n",
       " (18, 24, 30),\n",
       " (18, 80, 82),\n",
       " (20, 21, 29),\n",
       " (20, 48, 52),\n",
       " (21, 28, 35),\n",
       " (21, 72, 75),\n",
       " (24, 32, 40),\n",
       " (24, 45, 51),\n",
       " (24, 70, 74),\n",
       " (25, 60, 65),\n",
       " (27, 36, 45),\n",
       " (28, 45, 53),\n",
       " (28, 96, 100),\n",
       " (30, 40, 50),\n",
       " (30, 72, 78),\n",
       " (32, 60, 68),\n",
       " (33, 44, 55),\n",
       " (33, 56, 65),\n",
       " (35, 84, 91),\n",
       " (36, 48, 60),\n",
       " (36, 77, 85),\n",
       " (39, 52, 65),\n",
       " (39, 80, 89),\n",
       " (40, 42, 58),\n",
       " (40, 75, 85),\n",
       " (42, 56, 70),\n",
       " (45, 60, 75),\n",
       " (48, 55, 73),\n",
       " (48, 64, 80),\n",
       " (51, 68, 85),\n",
       " (54, 72, 90),\n",
       " (57, 76, 95),\n",
       " (60, 63, 87),\n",
       " (60, 80, 100),\n",
       " (65, 72, 97))"
      ]
     },
     "execution_count": 189,
     "metadata": {},
     "output_type": "execute_result"
    }
   ],
   "source": [
    "pyth_triple(101)"
   ]
  },
  {
   "cell_type": "markdown",
   "metadata": {},
   "source": [
    "9\\. Normalization\n",
    "\n",
    "Write a function that takes a tuple of numbers and returns it with the entries normalized to one"
   ]
  },
  {
   "cell_type": "code",
   "execution_count": 220,
   "metadata": {},
   "outputs": [],
   "source": [
    "def norm_tuple(tuple):\n",
    "    list_tuples = list(tuple)\n",
    "    norm = [(i - min(list_tuples)) / (max(list_tuples) - min(list_tuples)) for i in list_tuples]\n",
    "    return norm"
   ]
  },
  {
   "cell_type": "code",
   "execution_count": 222,
   "metadata": {},
   "outputs": [
    {
     "data": {
      "text/plain": [
       "[0.0, 0.6666666666666666, 0.4444444444444444, 1.0]"
      ]
     },
     "execution_count": 222,
     "metadata": {},
     "output_type": "execute_result"
    }
   ],
   "source": [
    "ex_tuple = (1, 7, 5, 10)\n",
    "norm_tuple(ex_tuple)"
   ]
  }
 ],
 "metadata": {
  "kernelspec": {
   "display_name": "Python 3 (ipykernel)",
   "language": "python",
   "name": "python3"
  },
  "language_info": {
   "codemirror_mode": {
    "name": "ipython",
    "version": 3
   },
   "file_extension": ".py",
   "mimetype": "text/x-python",
   "name": "python",
   "nbconvert_exporter": "python",
   "pygments_lexer": "ipython3",
   "version": "3.12.4"
  }
 },
 "nbformat": 4,
 "nbformat_minor": 4
}
